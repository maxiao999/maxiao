{
 "cells": [
  {
   "cell_type": "code",
   "execution_count": null,
   "metadata": {},
   "outputs": [],
   "source": [
    "#双变量描述统计指标是相关系数，相关系数有很多种。选择标准有三：\n",
    "#1.测量层次\n",
    "#2.是否对称\n",
    "#3."
   ]
  }
 ],
 "metadata": {
  "language_info": {
   "name": "python"
  }
 },
 "nbformat": 4,
 "nbformat_minor": 2
}
