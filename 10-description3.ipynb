{
 "cells": [
  {
   "cell_type": "code",
   "execution_count": 1,
   "metadata": {},
   "outputs": [
    {
     "data": {
      "text/plain": [
       "'\\n数值变量的描述统计\\n\\n统计指标：\\n\\n1.中值\\n2.平均值\\n3.方差\\n\\n\\n\\n\\n'"
      ]
     },
     "execution_count": 1,
     "metadata": {},
     "output_type": "execute_result"
    }
   ],
   "source": [
    "\"\"\"\n",
    "数值变量的描述统计\n",
    "\n",
    "统计指标：\n",
    "\n",
    "1.中值\n",
    "2.平均值\n",
    "3.方差\n",
    "\n",
    "可视化：\n",
    "1.散点图\n",
    "\n",
    "\n",
    "\n",
    "\"\"\""
   ]
  },
  {
   "cell_type": "code",
   "execution_count": 6,
   "metadata": {},
   "outputs": [
    {
     "ename": "IndentationError",
     "evalue": "expected an indented block after function definition on line 79 (mytools.py, line 80)",
     "output_type": "error",
     "traceback": [
      "Traceback \u001b[1;36m(most recent call last)\u001b[0m:\n",
      "\u001b[0m  File \u001b[0;32m~\\AppData\\Roaming\\Python\\Python311\\site-packages\\IPython\\core\\interactiveshell.py:3526\u001b[0m in \u001b[0;35mrun_code\u001b[0m\n    exec(code_obj, self.user_global_ns, self.user_ns)\u001b[0m\n",
      "\u001b[1;36m  Cell \u001b[1;32mIn[6], line 1\u001b[1;36m\n\u001b[1;33m    import mytools\u001b[1;36m\n",
      "\u001b[1;36m  File \u001b[1;32mc:\\Users\\pc\\Desktop\\maxiao\\mytools.py:80\u001b[1;36m\u001b[0m\n\u001b[1;33m    return pd.crosstab(数据表[自变量], 数据表[因变量], normalize='columns', margins=True)\u001b[0m\n\u001b[1;37m    ^\u001b[0m\n\u001b[1;31mIndentationError\u001b[0m\u001b[1;31m:\u001b[0m expected an indented block after function definition on line 79\n"
     ]
    }
   ],
   "source": [
    "import mytools\n",
    "from pyreadstat import pyreadstat\n",
    "国家认同原始数据, meta = mytools.读取SPSS数据(R'data/identity.sav')\n",
    "df, metadata = pyreadstat.read_sav(r'data/identity.sav',apply_value_formats=False,formats_as_ordered_category=True)"
   ]
  }
 ],
 "metadata": {
  "kernelspec": {
   "display_name": "Python 3",
   "language": "python",
   "name": "python3"
  },
  "language_info": {
   "codemirror_mode": {
    "name": "ipython",
    "version": 3
   },
   "file_extension": ".py",
   "mimetype": "text/x-python",
   "name": "python",
   "nbconvert_exporter": "python",
   "pygments_lexer": "ipython3",
   "version": "3.11.5"
  }
 },
 "nbformat": 4,
 "nbformat_minor": 2
}
