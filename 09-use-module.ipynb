{
 "cells": [
  {
   "cell_type": "code",
   "execution_count": 32,
   "metadata": {},
   "outputs": [
    {
     "ename": "IndentationError",
     "evalue": "expected an indented block after function definition on line 77 (mytools.py, line 78)",
     "output_type": "error",
     "traceback": [
      "Traceback \u001b[1;36m(most recent call last)\u001b[0m:\n",
      "\u001b[0m  File \u001b[0;32m~\\AppData\\Roaming\\Python\\Python311\\site-packages\\IPython\\core\\interactiveshell.py:3526\u001b[0m in \u001b[0;35mrun_code\u001b[0m\n    exec(code_obj, self.user_global_ns, self.user_ns)\u001b[0m\n",
      "\u001b[1;36m  Cell \u001b[1;32mIn[32], line 3\u001b[1;36m\n\u001b[1;33m    import mytools\u001b[1;36m\n",
      "\u001b[1;36m  File \u001b[1;32mc:\\Users\\pc\\Desktop\\maxiao\\mytools.py:78\u001b[1;36m\u001b[0m\n\u001b[1;33m    return pd.crosstab(数据表[自变量], 数据表[因变量], normalize='columns', margins=True)\u001b[0m\n\u001b[1;37m    ^\u001b[0m\n\u001b[1;31mIndentationError\u001b[0m\u001b[1;31m:\u001b[0m expected an indented block after function definition on line 77\n"
     ]
    }
   ],
   "source": [
    "import pandas as pd\n",
    "from pyreadstat import pyreadstat\n",
    "import mytools"
   ]
  },
  {
   "cell_type": "code",
   "execution_count": null,
   "metadata": {},
   "outputs": [],
   "source": [
    "import pandas as pd\n",
    "from pyreadstat import pyreadstat\n",
    "import matplotlib.pyplot as plt"
   ]
  },
  {
   "cell_type": "code",
   "execution_count": 34,
   "metadata": {},
   "outputs": [],
   "source": [
    "国家认同原始表, metadata = pyreadstat.read_sav(r'identity.sav',\n",
    "apply_value_formats=True,formats_as_ordered_category=True)"
   ]
  },
  {
   "cell_type": "code",
   "execution_count": 35,
   "metadata": {},
   "outputs": [
    {
     "ename": "NameError",
     "evalue": "name 'mytools' is not defined",
     "output_type": "error",
     "traceback": [
      "\u001b[1;31m---------------------------------------------------------------------------\u001b[0m",
      "\u001b[1;31mNameError\u001b[0m                                 Traceback (most recent call last)",
      "\u001b[1;32mc:\\Users\\pc\\Desktop\\maxiao\\09-use-module.ipynb 单元格 4\u001b[0m line \u001b[0;36m1\n\u001b[1;32m----> <a href='vscode-notebook-cell:/c%3A/Users/pc/Desktop/maxiao/09-use-module.ipynb#W6sZmlsZQ%3D%3D?line=0'>1</a>\u001b[0m mytools\u001b[39m.\u001b[39m有序变量描述统计函数(国家认同原始表, \u001b[39m'\u001b[39m\u001b[39m您觉得中国怎么样\u001b[39m\u001b[39m'\u001b[39m)\n",
      "\u001b[1;31mNameError\u001b[0m: name 'mytools' is not defined"
     ]
    }
   ],
   "source": [
    "mytools.有序变量描述统计函数(国家认同原始表, '您觉得中国怎么样')"
   ]
  }
 ],
 "metadata": {
  "kernelspec": {
   "display_name": "Python 3",
   "language": "python",
   "name": "python3"
  },
  "language_info": {
   "codemirror_mode": {
    "name": "ipython",
    "version": 3
   },
   "file_extension": ".py",
   "mimetype": "text/x-python",
   "name": "python",
   "nbconvert_exporter": "python",
   "pygments_lexer": "ipython3",
   "version": "3.11.5"
  }
 },
 "nbformat": 4,
 "nbformat_minor": 2
}
