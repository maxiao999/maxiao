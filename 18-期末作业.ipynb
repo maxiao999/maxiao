{
 "cells": [
  {
   "cell_type": "markdown",
   "metadata": {},
   "source": [
    "个人信息"
   ]
  },
  {
   "cell_type": "code",
   "execution_count": 41,
   "metadata": {},
   "outputs": [],
   "source": [
    "import mytools \n",
    "import pandas as pd"
   ]
  },
  {
   "cell_type": "code",
   "execution_count": 42,
   "metadata": {},
   "outputs": [],
   "source": [
    "#读取数据表\n",
    "数据表 = mytools.读取SPSS数据文件(R'output\\demo (1).sav')"
   ]
  },
  {
   "cell_type": "markdown",
   "metadata": {},
   "source": [
    "#S明确数据分析目标\n",
    "1，了解本地区居民的媒介素养\n",
    "2，居民收入（职业、年龄）与媒介素养的关系\n",
    "3，xx与xxx的相关性\n",
    "4,……\n",
    "5，多变量交互分类表或多元回归分析"
   ]
  },
  {
   "cell_type": "markdown",
   "metadata": {},
   "source": [
    "#数据清理与转换\n",
    "##数据清理\n",
    "1，空白值\n",
    "2，异常值\n",
    "3，重复值\n",
    "4，逻辑不一致的值\n",
    "##数据转换\n",
    "1，值的转换"
   ]
  },
  {
   "cell_type": "code",
   "execution_count": 43,
   "metadata": {},
   "outputs": [
    {
     "data": {
      "text/plain": [
       "Index(['序号', '@1、您的性别：', '@2、您的年龄：', '@3、您的婚姻状况：', '@4、您的受教育程度是：',\n",
       "       '@5、您的政治面貌：', '@7、您的信仰是：', '@8、您的职业是：', '@9、您的月收入大约是多少？', '@10、1您家里有',\n",
       "       '@10、2口人，是', '@10、3代人，家里有', '@10、4位老人，家里有', '@10、5个小孩，外出打工的人有___人。',\n",
       "       '@11、您平常是否通过电脑上网？', '@12、您平常是否通过手机上网？', '@13、您平时一周有几天通过电脑上网？',\n",
       "       '@14、您平时一周有几天通过手机上网？', '@15、1您每天通过手机上网的时间大概为', '@15、2分钟，您每天通过电脑上网的时间为',\n",
       "       '@15、3分钟，您每个月的手机话费为', '@15、4元，您家的宽带费为___元。',\n",
       "       '@16、互联网使用行为（问卷17题至26题）—17、您', '@16、18、您认为您在上网时使用搜索引擎（百度',\n",
       "       '@16、19、您经常会通过互联网（辣椒直播、下厨', '@16、20、您认为您玩手机网络游戏（斗地主、斗',\n",
       "       '@16、21、您经常会通过互联网观看小说么？', '@16、22、您经常会通过互联网观看视频（快手、',\n",
       "       '@16、23、您认为您通过即时通讯（微信、QQ）与他', '@16、24、您经常会通过社交网络（微博、陌陌、',\n",
       "       '@16、25、您认为您在互联网（淘宝、拼多多、京', '@16、26、您经常使用移动支付（支付宝、微信支',\n",
       "       'Q17_1_我目前的生活接近我理想的状态', 'Q17_2_我的生活条件在各方面都很不错。', 'Q17_3_对我目前的生活，我很满意。',\n",
       "       'Q17_4_到目前为止，我已经得到了我想要的东西', 'Q17_5_如果我能再活一次我没有什么要改变',\n",
       "       '@18、请表述您最近一周的情感状况—6.爱', '@18、7.愉悦', '@18、8.自豪', '@18、9.愤怒',\n",
       "       '@18、10.忧虑', '@18、11.悲哀', '@19、第三部分—1.我能够获得足够有用的媒介信',\n",
       "       '@19、2.我能够不断更新自己的信息获取技能。', '@19、3.我具有较强的信息获取意识。',\n",
       "       '@19、4.我能够熟练使用软件工具进行信息检索。', '@19、5.我能够通过寻找佐证资料判断信息的可信',\n",
       "       '@19、6.能够通过标题、内容等判断信息的可信度', '@19、7.我能够判断当前信息是在陈述事实还是表',\n",
       "       '@19、8.我能够评估媒介信息内容对他人或社会可', '@19、9.我能够通过信息发布机构的权威性判断信',\n",
       "       '@19、10.我通过网络微信微博QQ等分享社会时事新', '@19、11.我通过网络微信微博QQ等参与投票、网络',\n",
       "       '@19、12.我通过网络参与社会公共事件讨论。', '@19、13.我通过网络微信微博QQ等参与社会实践。',\n",
       "       '@19、14.我通过网络微信微博QQ等与他人交流沟通', '@19、15.我通过网络微信微博QQ等分享个人动态信',\n",
       "       '@19、16.我通过网络微信微博QQ等表达个人观点发', '@19、17.我通过网络网络微信微博QQ等与他人协作',\n",
       "       '@19、18.我能够对音视频素材进行转换格式、压缩', '@19、19.我能够对图像素材进行格式转换、压缩与',\n",
       "       '@19、20.我能够对多媒体素材进行合成与发布。', 'Q20_1_我对目前的工作相当满意。',\n",
       "       'Q20_2_大多数时候我对工作充满热情。', 'Q20_3_我不会感到每天的工作似乎永远不会结束。',\n",
       "       'Q20_4_我在工作中找到了真正的乐趣', 'Q20_5_我认为我的工作相当愉快。', 'Q21_1_我感到我是一个有价值的人',\n",
       "       'Q21_2_我感到我有许多好的品质。', 'Q21_3_我倾向于觉得自己是一个失败者', 'Q21_4_我能像大多数人一样把事情做好',\n",
       "       'Q21_5_我感到自己值得自豪的地方不多。', 'Q21_6_我对自己持肯定的态度。', 'Q21_7_总的来说，我对自己是满意的。',\n",
       "       'Q21_8_我希望我能为自己赢得更多尊重。', 'Q21_9_我时常感到自已毫无用处', 'Q21_10_我时常认为自己一无是处。',\n",
       "       '@25、调研日期（根据调研日期填写3、4、5或其他', '@27、调研地点', '@28、问卷编号',\n",
       "       '@30、问卷录入过程中其他需要说明的问题（若没', '年龄段', '每周上网时长', '生活满意度', '生活满意度区间', '工作满意度',\n",
       "       '工作满意度区间', '自尊'],\n",
       "      dtype='object')"
      ]
     },
     "execution_count": 43,
     "metadata": {},
     "output_type": "execute_result"
    }
   ],
   "source": [
    "数据表.columns"
   ]
  },
  {
   "cell_type": "code",
   "execution_count": 44,
   "metadata": {},
   "outputs": [],
   "source": [
    "数据表.rename(columns={\n",
    "    '@2、您的年龄：': '年龄',\n",
    "    '@3、您的婚姻状况：': '婚姻状况',\n",
    "    '@10、1您家里有': '家庭规模',\n",
    "    'Q20_1_我对目前的工作相当满意。': '工作满意程度',\n",
    "}, inplace=True)"
   ]
  },
  {
   "cell_type": "code",
   "execution_count": 45,
   "metadata": {},
   "outputs": [
    {
     "data": {
      "text/plain": [
       "43.67741935483871"
      ]
     },
     "execution_count": 45,
     "metadata": {},
     "output_type": "execute_result"
    }
   ],
   "source": [
    "# 数据表['家庭规模'].mean()\n",
    "数据表['年龄'].mean()"
   ]
  },
  {
   "cell_type": "code",
   "execution_count": 46,
   "metadata": {},
   "outputs": [
    {
     "data": {
      "text/plain": [
       "工作满意程度\n",
       " 6.0    41\n",
       " 5.0    32\n",
       " 4.0     8\n",
       " 7.0     5\n",
       "-2.0     4\n",
       " 2.0     3\n",
       " 3.0     1\n",
       "Name: count, dtype: int64"
      ]
     },
     "execution_count": 46,
     "metadata": {},
     "output_type": "execute_result"
    }
   ],
   "source": [
    "数据表['工作满意程度'].replace({'(空)':None}, inplace=True)\n",
    "数据表['工作满意程度'].value_counts()"
   ]
  },
  {
   "cell_type": "code",
   "execution_count": 47,
   "metadata": {},
   "outputs": [],
   "source": [
    "数据表['年龄'].fillna(43, inplace=True)\n",
    "数据表['婚姻状况'].fillna('已婚', inplace=True)\n",
    "数据表['家庭规模'].fillna(6, inplace=True)\n",
    "数据表['工作满意程度'].fillna(6, inplace=True)"
   ]
  },
  {
   "cell_type": "code",
   "execution_count": 48,
   "metadata": {},
   "outputs": [
    {
     "name": "stdout",
     "output_type": "stream",
     "text": [
      "使用标准差判断的异常值为： Empty DataFrame\n",
      "Columns: [序号, @1、您的性别：, 年龄, 婚姻状况, @4、您的受教育程度是：, @5、您的政治面貌：, @7、您的信仰是：, @8、您的职业是：, @9、您的月收入大约是多少？, 家庭规模, @10、2口人，是, @10、3代人，家里有, @10、4位老人，家里有, @10、5个小孩，外出打工的人有___人。, @11、您平常是否通过电脑上网？, @12、您平常是否通过手机上网？, @13、您平时一周有几天通过电脑上网？, @14、您平时一周有几天通过手机上网？, @15、1您每天通过手机上网的时间大概为, @15、2分钟，您每天通过电脑上网的时间为, @15、3分钟，您每个月的手机话费为, @15、4元，您家的宽带费为___元。, @16、互联网使用行为（问卷17题至26题）—17、您, @16、18、您认为您在上网时使用搜索引擎（百度, @16、19、您经常会通过互联网（辣椒直播、下厨, @16、20、您认为您玩手机网络游戏（斗地主、斗, @16、21、您经常会通过互联网观看小说么？, @16、22、您经常会通过互联网观看视频（快手、, @16、23、您认为您通过即时通讯（微信、QQ）与他, @16、24、您经常会通过社交网络（微博、陌陌、, @16、25、您认为您在互联网（淘宝、拼多多、京, @16、26、您经常使用移动支付（支付宝、微信支, Q17_1_我目前的生活接近我理想的状态, Q17_2_我的生活条件在各方面都很不错。, Q17_3_对我目前的生活，我很满意。, Q17_4_到目前为止，我已经得到了我想要的东西, Q17_5_如果我能再活一次我没有什么要改变, @18、请表述您最近一周的情感状况—6.爱, @18、7.愉悦, @18、8.自豪, @18、9.愤怒, @18、10.忧虑, @18、11.悲哀, @19、第三部分—1.我能够获得足够有用的媒介信, @19、2.我能够不断更新自己的信息获取技能。, @19、3.我具有较强的信息获取意识。, @19、4.我能够熟练使用软件工具进行信息检索。, @19、5.我能够通过寻找佐证资料判断信息的可信, @19、6.能够通过标题、内容等判断信息的可信度, @19、7.我能够判断当前信息是在陈述事实还是表, @19、8.我能够评估媒介信息内容对他人或社会可, @19、9.我能够通过信息发布机构的权威性判断信, @19、10.我通过网络微信微博QQ等分享社会时事新, @19、11.我通过网络微信微博QQ等参与投票、网络, @19、12.我通过网络参与社会公共事件讨论。, @19、13.我通过网络微信微博QQ等参与社会实践。, @19、14.我通过网络微信微博QQ等与他人交流沟通, @19、15.我通过网络微信微博QQ等分享个人动态信, @19、16.我通过网络微信微博QQ等表达个人观点发, @19、17.我通过网络网络微信微博QQ等与他人协作, @19、18.我能够对音视频素材进行转换格式、压缩, @19、19.我能够对图像素材进行格式转换、压缩与, @19、20.我能够对多媒体素材进行合成与发布。, 工作满意程度, Q20_2_大多数时候我对工作充满热情。, Q20_3_我不会感到每天的工作似乎永远不会结束。, Q20_4_我在工作中找到了真正的乐趣, Q20_5_我认为我的工作相当愉快。, Q21_1_我感到我是一个有价值的人, Q21_2_我感到我有许多好的品质。, Q21_3_我倾向于觉得自己是一个失败者, Q21_4_我能像大多数人一样把事情做好, Q21_5_我感到自己值得自豪的地方不多。, Q21_6_我对自己持肯定的态度。, Q21_7_总的来说，我对自己是满意的。, Q21_8_我希望我能为自己赢得更多尊重。, Q21_9_我时常感到自已毫无用处, Q21_10_我时常认为自己一无是处。, @25、调研日期（根据调研日期填写3、4、5或其他, @27、调研地点, @28、问卷编号, @30、问卷录入过程中其他需要说明的问题（若没, 年龄段, 每周上网时长, 生活满意度, 生活满意度区间, 工作满意度, 工作满意度区间, 自尊]\n",
      "Index: []\n",
      "\n",
      "[0 rows x 89 columns]\n"
     ]
    }
   ],
   "source": [
    "# 计算均值和标准差\n",
    "mean = 数据表['年龄'].mean()\n",
    "std = 数据表['年龄'].std()\n",
    "condition1 = (数据表['年龄'] < mean - 3 * std) | (数据表['年龄'] > mean + 3 * std)\n",
    "# 识别异常值\n",
    "outliers1 = 数据表[condition1]\n",
    "print('使用标准差判断的异常值为：',outliers1)"
   ]
  },
  {
   "cell_type": "code",
   "execution_count": 49,
   "metadata": {},
   "outputs": [
    {
     "name": "stdout",
     "output_type": "stream",
     "text": [
      "使用标准差判断的异常值为： Empty DataFrame\n",
      "Columns: [序号, @1、您的性别：, 年龄, 婚姻状况, @4、您的受教育程度是：, @5、您的政治面貌：, @7、您的信仰是：, @8、您的职业是：, @9、您的月收入大约是多少？, 家庭规模, @10、2口人，是, @10、3代人，家里有, @10、4位老人，家里有, @10、5个小孩，外出打工的人有___人。, @11、您平常是否通过电脑上网？, @12、您平常是否通过手机上网？, @13、您平时一周有几天通过电脑上网？, @14、您平时一周有几天通过手机上网？, @15、1您每天通过手机上网的时间大概为, @15、2分钟，您每天通过电脑上网的时间为, @15、3分钟，您每个月的手机话费为, @15、4元，您家的宽带费为___元。, @16、互联网使用行为（问卷17题至26题）—17、您, @16、18、您认为您在上网时使用搜索引擎（百度, @16、19、您经常会通过互联网（辣椒直播、下厨, @16、20、您认为您玩手机网络游戏（斗地主、斗, @16、21、您经常会通过互联网观看小说么？, @16、22、您经常会通过互联网观看视频（快手、, @16、23、您认为您通过即时通讯（微信、QQ）与他, @16、24、您经常会通过社交网络（微博、陌陌、, @16、25、您认为您在互联网（淘宝、拼多多、京, @16、26、您经常使用移动支付（支付宝、微信支, Q17_1_我目前的生活接近我理想的状态, Q17_2_我的生活条件在各方面都很不错。, Q17_3_对我目前的生活，我很满意。, Q17_4_到目前为止，我已经得到了我想要的东西, Q17_5_如果我能再活一次我没有什么要改变, @18、请表述您最近一周的情感状况—6.爱, @18、7.愉悦, @18、8.自豪, @18、9.愤怒, @18、10.忧虑, @18、11.悲哀, @19、第三部分—1.我能够获得足够有用的媒介信, @19、2.我能够不断更新自己的信息获取技能。, @19、3.我具有较强的信息获取意识。, @19、4.我能够熟练使用软件工具进行信息检索。, @19、5.我能够通过寻找佐证资料判断信息的可信, @19、6.能够通过标题、内容等判断信息的可信度, @19、7.我能够判断当前信息是在陈述事实还是表, @19、8.我能够评估媒介信息内容对他人或社会可, @19、9.我能够通过信息发布机构的权威性判断信, @19、10.我通过网络微信微博QQ等分享社会时事新, @19、11.我通过网络微信微博QQ等参与投票、网络, @19、12.我通过网络参与社会公共事件讨论。, @19、13.我通过网络微信微博QQ等参与社会实践。, @19、14.我通过网络微信微博QQ等与他人交流沟通, @19、15.我通过网络微信微博QQ等分享个人动态信, @19、16.我通过网络微信微博QQ等表达个人观点发, @19、17.我通过网络网络微信微博QQ等与他人协作, @19、18.我能够对音视频素材进行转换格式、压缩, @19、19.我能够对图像素材进行格式转换、压缩与, @19、20.我能够对多媒体素材进行合成与发布。, 工作满意程度, Q20_2_大多数时候我对工作充满热情。, Q20_3_我不会感到每天的工作似乎永远不会结束。, Q20_4_我在工作中找到了真正的乐趣, Q20_5_我认为我的工作相当愉快。, Q21_1_我感到我是一个有价值的人, Q21_2_我感到我有许多好的品质。, Q21_3_我倾向于觉得自己是一个失败者, Q21_4_我能像大多数人一样把事情做好, Q21_5_我感到自己值得自豪的地方不多。, Q21_6_我对自己持肯定的态度。, Q21_7_总的来说，我对自己是满意的。, Q21_8_我希望我能为自己赢得更多尊重。, Q21_9_我时常感到自已毫无用处, Q21_10_我时常认为自己一无是处。, @25、调研日期（根据调研日期填写3、4、5或其他, @27、调研地点, @28、问卷编号, @30、问卷录入过程中其他需要说明的问题（若没, 年龄段, 每周上网时长, 生活满意度, 生活满意度区间, 工作满意度, 工作满意度区间, 自尊]\n",
      "Index: []\n",
      "\n",
      "[0 rows x 89 columns]\n"
     ]
    }
   ],
   "source": [
    "mytools.使用标准差判断数值变量异常值(数据表,'年龄')"
   ]
  },
  {
   "cell_type": "code",
   "execution_count": 50,
   "metadata": {},
   "outputs": [
    {
     "data": {
      "text/plain": [
       "dtype('float64')"
      ]
     },
     "execution_count": 50,
     "metadata": {},
     "output_type": "execute_result"
    }
   ],
   "source": [
    "数据表['工作满意程度'].dtypes"
   ]
  },
  {
   "cell_type": "code",
   "execution_count": 51,
   "metadata": {},
   "outputs": [
    {
     "data": {
      "text/plain": [
       "序号               float64\n",
       "@1、您的性别：         float64\n",
       "年龄               float64\n",
       "婚姻状况            category\n",
       "@4、您的受教育程度是：    category\n",
       "                  ...   \n",
       "生活满意度            float64\n",
       "生活满意度区间         category\n",
       "工作满意度            float64\n",
       "工作满意度区间         category\n",
       "自尊               float64\n",
       "Length: 89, dtype: object"
      ]
     },
     "execution_count": 51,
     "metadata": {},
     "output_type": "execute_result"
    }
   ],
   "source": [
    "数据表.astype({\"工作满意程度\": \"int\"}).dtypes"
   ]
  },
  {
   "cell_type": "code",
   "execution_count": 52,
   "metadata": {},
   "outputs": [
    {
     "data": {
      "text/plain": [
       "0     5.0\n",
       "1     NaN\n",
       "2     NaN\n",
       "3     NaN\n",
       "4     5.0\n",
       "     ... \n",
       "89    5.0\n",
       "90    NaN\n",
       "91    NaN\n",
       "92    5.0\n",
       "93    NaN\n",
       "Name: 工作满意程度, Length: 94, dtype: float64"
      ]
     },
     "execution_count": 52,
     "metadata": {},
     "output_type": "execute_result"
    }
   ],
   "source": [
    "数据表['工作满意程度'].map({1:1,2:2,3:3,4:4,5:5})"
   ]
  },
  {
   "cell_type": "code",
   "execution_count": 53,
   "metadata": {},
   "outputs": [
    {
     "data": {
      "text/plain": [
       "序号               float64\n",
       "@1、您的性别：         float64\n",
       "年龄                 int32\n",
       "婚姻状况            category\n",
       "@4、您的受教育程度是：    category\n",
       "                  ...   \n",
       "生活满意度            float64\n",
       "生活满意度区间         category\n",
       "工作满意度            float64\n",
       "工作满意度区间         category\n",
       "自尊               float64\n",
       "Length: 89, dtype: object"
      ]
     },
     "execution_count": 53,
     "metadata": {},
     "output_type": "execute_result"
    }
   ],
   "source": [
    "# 变量类型设置\n",
    "数据表['年龄'].dtypes\n",
    "数据表.astype({'年龄':\"int\"}).dtypes"
   ]
  },
  {
   "cell_type": "code",
   "execution_count": 54,
   "metadata": {},
   "outputs": [],
   "source": [
    "# 生成新的变量\n",
    "数据表['工作满意程度'] = 数据表['@19、5.我能够通过寻找佐证资料判断信息的可信']+数据表['@19、6.能够通过标题、内容等判断信息的可信度']+数据表['@19、7.我能够判断当前信息是在陈述事实还是表']+数据表['@19、8.我能够评估媒介信息内容对他人或社会可']+数据表['@19、9.我能够通过信息发布机构的权威性判断信']"
   ]
  },
  {
   "cell_type": "code",
   "execution_count": 55,
   "metadata": {},
   "outputs": [
    {
     "data": {
      "application/vnd.plotly.v1+json": {
       "config": {
        "plotlyServerURL": "https://plot.ly"
       },
       "data": [
        {
         "alignmentgroup": "True",
         "hovertemplate": "工作满意程度=%{x}<br>数量=%{y}<extra></extra>",
         "legendgroup": "",
         "marker": {
          "color": "#636efa",
          "pattern": {
           "shape": ""
          }
         },
         "name": "",
         "offsetgroup": "",
         "orientation": "v",
         "showlegend": false,
         "textposition": "auto",
         "type": "bar",
         "x": [
          10,
          16,
          12,
          13,
          15,
          17,
          11,
          18,
          14,
          20,
          8,
          21,
          19,
          7,
          5
         ],
         "xaxis": "x",
         "y": [
          18,
          15,
          11,
          9,
          7,
          7,
          6,
          5,
          3,
          3,
          3,
          3,
          2,
          1,
          1
         ],
         "yaxis": "y"
        }
       ],
       "layout": {
        "barmode": "relative",
        "legend": {
         "tracegroupgap": 0
        },
        "margin": {
         "t": 60
        },
        "template": {
         "data": {
          "bar": [
           {
            "error_x": {
             "color": "#2a3f5f"
            },
            "error_y": {
             "color": "#2a3f5f"
            },
            "marker": {
             "line": {
              "color": "#E5ECF6",
              "width": 0.5
             },
             "pattern": {
              "fillmode": "overlay",
              "size": 10,
              "solidity": 0.2
             }
            },
            "type": "bar"
           }
          ],
          "barpolar": [
           {
            "marker": {
             "line": {
              "color": "#E5ECF6",
              "width": 0.5
             },
             "pattern": {
              "fillmode": "overlay",
              "size": 10,
              "solidity": 0.2
             }
            },
            "type": "barpolar"
           }
          ],
          "carpet": [
           {
            "aaxis": {
             "endlinecolor": "#2a3f5f",
             "gridcolor": "white",
             "linecolor": "white",
             "minorgridcolor": "white",
             "startlinecolor": "#2a3f5f"
            },
            "baxis": {
             "endlinecolor": "#2a3f5f",
             "gridcolor": "white",
             "linecolor": "white",
             "minorgridcolor": "white",
             "startlinecolor": "#2a3f5f"
            },
            "type": "carpet"
           }
          ],
          "choropleth": [
           {
            "colorbar": {
             "outlinewidth": 0,
             "ticks": ""
            },
            "type": "choropleth"
           }
          ],
          "contour": [
           {
            "colorbar": {
             "outlinewidth": 0,
             "ticks": ""
            },
            "colorscale": [
             [
              0,
              "#0d0887"
             ],
             [
              0.1111111111111111,
              "#46039f"
             ],
             [
              0.2222222222222222,
              "#7201a8"
             ],
             [
              0.3333333333333333,
              "#9c179e"
             ],
             [
              0.4444444444444444,
              "#bd3786"
             ],
             [
              0.5555555555555556,
              "#d8576b"
             ],
             [
              0.6666666666666666,
              "#ed7953"
             ],
             [
              0.7777777777777778,
              "#fb9f3a"
             ],
             [
              0.8888888888888888,
              "#fdca26"
             ],
             [
              1,
              "#f0f921"
             ]
            ],
            "type": "contour"
           }
          ],
          "contourcarpet": [
           {
            "colorbar": {
             "outlinewidth": 0,
             "ticks": ""
            },
            "type": "contourcarpet"
           }
          ],
          "heatmap": [
           {
            "colorbar": {
             "outlinewidth": 0,
             "ticks": ""
            },
            "colorscale": [
             [
              0,
              "#0d0887"
             ],
             [
              0.1111111111111111,
              "#46039f"
             ],
             [
              0.2222222222222222,
              "#7201a8"
             ],
             [
              0.3333333333333333,
              "#9c179e"
             ],
             [
              0.4444444444444444,
              "#bd3786"
             ],
             [
              0.5555555555555556,
              "#d8576b"
             ],
             [
              0.6666666666666666,
              "#ed7953"
             ],
             [
              0.7777777777777778,
              "#fb9f3a"
             ],
             [
              0.8888888888888888,
              "#fdca26"
             ],
             [
              1,
              "#f0f921"
             ]
            ],
            "type": "heatmap"
           }
          ],
          "heatmapgl": [
           {
            "colorbar": {
             "outlinewidth": 0,
             "ticks": ""
            },
            "colorscale": [
             [
              0,
              "#0d0887"
             ],
             [
              0.1111111111111111,
              "#46039f"
             ],
             [
              0.2222222222222222,
              "#7201a8"
             ],
             [
              0.3333333333333333,
              "#9c179e"
             ],
             [
              0.4444444444444444,
              "#bd3786"
             ],
             [
              0.5555555555555556,
              "#d8576b"
             ],
             [
              0.6666666666666666,
              "#ed7953"
             ],
             [
              0.7777777777777778,
              "#fb9f3a"
             ],
             [
              0.8888888888888888,
              "#fdca26"
             ],
             [
              1,
              "#f0f921"
             ]
            ],
            "type": "heatmapgl"
           }
          ],
          "histogram": [
           {
            "marker": {
             "pattern": {
              "fillmode": "overlay",
              "size": 10,
              "solidity": 0.2
             }
            },
            "type": "histogram"
           }
          ],
          "histogram2d": [
           {
            "colorbar": {
             "outlinewidth": 0,
             "ticks": ""
            },
            "colorscale": [
             [
              0,
              "#0d0887"
             ],
             [
              0.1111111111111111,
              "#46039f"
             ],
             [
              0.2222222222222222,
              "#7201a8"
             ],
             [
              0.3333333333333333,
              "#9c179e"
             ],
             [
              0.4444444444444444,
              "#bd3786"
             ],
             [
              0.5555555555555556,
              "#d8576b"
             ],
             [
              0.6666666666666666,
              "#ed7953"
             ],
             [
              0.7777777777777778,
              "#fb9f3a"
             ],
             [
              0.8888888888888888,
              "#fdca26"
             ],
             [
              1,
              "#f0f921"
             ]
            ],
            "type": "histogram2d"
           }
          ],
          "histogram2dcontour": [
           {
            "colorbar": {
             "outlinewidth": 0,
             "ticks": ""
            },
            "colorscale": [
             [
              0,
              "#0d0887"
             ],
             [
              0.1111111111111111,
              "#46039f"
             ],
             [
              0.2222222222222222,
              "#7201a8"
             ],
             [
              0.3333333333333333,
              "#9c179e"
             ],
             [
              0.4444444444444444,
              "#bd3786"
             ],
             [
              0.5555555555555556,
              "#d8576b"
             ],
             [
              0.6666666666666666,
              "#ed7953"
             ],
             [
              0.7777777777777778,
              "#fb9f3a"
             ],
             [
              0.8888888888888888,
              "#fdca26"
             ],
             [
              1,
              "#f0f921"
             ]
            ],
            "type": "histogram2dcontour"
           }
          ],
          "mesh3d": [
           {
            "colorbar": {
             "outlinewidth": 0,
             "ticks": ""
            },
            "type": "mesh3d"
           }
          ],
          "parcoords": [
           {
            "line": {
             "colorbar": {
              "outlinewidth": 0,
              "ticks": ""
             }
            },
            "type": "parcoords"
           }
          ],
          "pie": [
           {
            "automargin": true,
            "type": "pie"
           }
          ],
          "scatter": [
           {
            "fillpattern": {
             "fillmode": "overlay",
             "size": 10,
             "solidity": 0.2
            },
            "type": "scatter"
           }
          ],
          "scatter3d": [
           {
            "line": {
             "colorbar": {
              "outlinewidth": 0,
              "ticks": ""
             }
            },
            "marker": {
             "colorbar": {
              "outlinewidth": 0,
              "ticks": ""
             }
            },
            "type": "scatter3d"
           }
          ],
          "scattercarpet": [
           {
            "marker": {
             "colorbar": {
              "outlinewidth": 0,
              "ticks": ""
             }
            },
            "type": "scattercarpet"
           }
          ],
          "scattergeo": [
           {
            "marker": {
             "colorbar": {
              "outlinewidth": 0,
              "ticks": ""
             }
            },
            "type": "scattergeo"
           }
          ],
          "scattergl": [
           {
            "marker": {
             "colorbar": {
              "outlinewidth": 0,
              "ticks": ""
             }
            },
            "type": "scattergl"
           }
          ],
          "scattermapbox": [
           {
            "marker": {
             "colorbar": {
              "outlinewidth": 0,
              "ticks": ""
             }
            },
            "type": "scattermapbox"
           }
          ],
          "scatterpolar": [
           {
            "marker": {
             "colorbar": {
              "outlinewidth": 0,
              "ticks": ""
             }
            },
            "type": "scatterpolar"
           }
          ],
          "scatterpolargl": [
           {
            "marker": {
             "colorbar": {
              "outlinewidth": 0,
              "ticks": ""
             }
            },
            "type": "scatterpolargl"
           }
          ],
          "scatterternary": [
           {
            "marker": {
             "colorbar": {
              "outlinewidth": 0,
              "ticks": ""
             }
            },
            "type": "scatterternary"
           }
          ],
          "surface": [
           {
            "colorbar": {
             "outlinewidth": 0,
             "ticks": ""
            },
            "colorscale": [
             [
              0,
              "#0d0887"
             ],
             [
              0.1111111111111111,
              "#46039f"
             ],
             [
              0.2222222222222222,
              "#7201a8"
             ],
             [
              0.3333333333333333,
              "#9c179e"
             ],
             [
              0.4444444444444444,
              "#bd3786"
             ],
             [
              0.5555555555555556,
              "#d8576b"
             ],
             [
              0.6666666666666666,
              "#ed7953"
             ],
             [
              0.7777777777777778,
              "#fb9f3a"
             ],
             [
              0.8888888888888888,
              "#fdca26"
             ],
             [
              1,
              "#f0f921"
             ]
            ],
            "type": "surface"
           }
          ],
          "table": [
           {
            "cells": {
             "fill": {
              "color": "#EBF0F8"
             },
             "line": {
              "color": "white"
             }
            },
            "header": {
             "fill": {
              "color": "#C8D4E3"
             },
             "line": {
              "color": "white"
             }
            },
            "type": "table"
           }
          ]
         },
         "layout": {
          "annotationdefaults": {
           "arrowcolor": "#2a3f5f",
           "arrowhead": 0,
           "arrowwidth": 1
          },
          "autotypenumbers": "strict",
          "coloraxis": {
           "colorbar": {
            "outlinewidth": 0,
            "ticks": ""
           }
          },
          "colorscale": {
           "diverging": [
            [
             0,
             "#8e0152"
            ],
            [
             0.1,
             "#c51b7d"
            ],
            [
             0.2,
             "#de77ae"
            ],
            [
             0.3,
             "#f1b6da"
            ],
            [
             0.4,
             "#fde0ef"
            ],
            [
             0.5,
             "#f7f7f7"
            ],
            [
             0.6,
             "#e6f5d0"
            ],
            [
             0.7,
             "#b8e186"
            ],
            [
             0.8,
             "#7fbc41"
            ],
            [
             0.9,
             "#4d9221"
            ],
            [
             1,
             "#276419"
            ]
           ],
           "sequential": [
            [
             0,
             "#0d0887"
            ],
            [
             0.1111111111111111,
             "#46039f"
            ],
            [
             0.2222222222222222,
             "#7201a8"
            ],
            [
             0.3333333333333333,
             "#9c179e"
            ],
            [
             0.4444444444444444,
             "#bd3786"
            ],
            [
             0.5555555555555556,
             "#d8576b"
            ],
            [
             0.6666666666666666,
             "#ed7953"
            ],
            [
             0.7777777777777778,
             "#fb9f3a"
            ],
            [
             0.8888888888888888,
             "#fdca26"
            ],
            [
             1,
             "#f0f921"
            ]
           ],
           "sequentialminus": [
            [
             0,
             "#0d0887"
            ],
            [
             0.1111111111111111,
             "#46039f"
            ],
            [
             0.2222222222222222,
             "#7201a8"
            ],
            [
             0.3333333333333333,
             "#9c179e"
            ],
            [
             0.4444444444444444,
             "#bd3786"
            ],
            [
             0.5555555555555556,
             "#d8576b"
            ],
            [
             0.6666666666666666,
             "#ed7953"
            ],
            [
             0.7777777777777778,
             "#fb9f3a"
            ],
            [
             0.8888888888888888,
             "#fdca26"
            ],
            [
             1,
             "#f0f921"
            ]
           ]
          },
          "colorway": [
           "#636efa",
           "#EF553B",
           "#00cc96",
           "#ab63fa",
           "#FFA15A",
           "#19d3f3",
           "#FF6692",
           "#B6E880",
           "#FF97FF",
           "#FECB52"
          ],
          "font": {
           "color": "#2a3f5f"
          },
          "geo": {
           "bgcolor": "white",
           "lakecolor": "white",
           "landcolor": "#E5ECF6",
           "showlakes": true,
           "showland": true,
           "subunitcolor": "white"
          },
          "hoverlabel": {
           "align": "left"
          },
          "hovermode": "closest",
          "mapbox": {
           "style": "light"
          },
          "paper_bgcolor": "white",
          "plot_bgcolor": "#E5ECF6",
          "polar": {
           "angularaxis": {
            "gridcolor": "white",
            "linecolor": "white",
            "ticks": ""
           },
           "bgcolor": "#E5ECF6",
           "radialaxis": {
            "gridcolor": "white",
            "linecolor": "white",
            "ticks": ""
           }
          },
          "scene": {
           "xaxis": {
            "backgroundcolor": "#E5ECF6",
            "gridcolor": "white",
            "gridwidth": 2,
            "linecolor": "white",
            "showbackground": true,
            "ticks": "",
            "zerolinecolor": "white"
           },
           "yaxis": {
            "backgroundcolor": "#E5ECF6",
            "gridcolor": "white",
            "gridwidth": 2,
            "linecolor": "white",
            "showbackground": true,
            "ticks": "",
            "zerolinecolor": "white"
           },
           "zaxis": {
            "backgroundcolor": "#E5ECF6",
            "gridcolor": "white",
            "gridwidth": 2,
            "linecolor": "white",
            "showbackground": true,
            "ticks": "",
            "zerolinecolor": "white"
           }
          },
          "shapedefaults": {
           "line": {
            "color": "#2a3f5f"
           }
          },
          "ternary": {
           "aaxis": {
            "gridcolor": "white",
            "linecolor": "white",
            "ticks": ""
           },
           "baxis": {
            "gridcolor": "white",
            "linecolor": "white",
            "ticks": ""
           },
           "bgcolor": "#E5ECF6",
           "caxis": {
            "gridcolor": "white",
            "linecolor": "white",
            "ticks": ""
           }
          },
          "title": {
           "x": 0.05
          },
          "xaxis": {
           "automargin": true,
           "gridcolor": "white",
           "linecolor": "white",
           "ticks": "",
           "title": {
            "standoff": 15
           },
           "zerolinecolor": "white",
           "zerolinewidth": 2
          },
          "yaxis": {
           "automargin": true,
           "gridcolor": "white",
           "linecolor": "white",
           "ticks": "",
           "title": {
            "standoff": 15
           },
           "zerolinecolor": "white",
           "zerolinewidth": 2
          }
         }
        },
        "xaxis": {
         "anchor": "y",
         "domain": [
          0,
          1
         ],
         "title": {
          "text": "工作满意程度"
         }
        },
        "yaxis": {
         "anchor": "x",
         "domain": [
          0,
          1
         ],
         "title": {
          "text": "数量"
         }
        }
       }
      }
     },
     "metadata": {},
     "output_type": "display_data"
    }
   ],
   "source": [
    "# 单变量数据分析\n",
    "\n",
    "mytools.使用plotly绘制类别变量柱状图(数据表,'工作满意程度')"
   ]
  },
  {
   "cell_type": "code",
   "execution_count": 56,
   "metadata": {},
   "outputs": [
    {
     "data": {
      "application/vnd.plotly.v1+json": {
       "config": {
        "plotlyServerURL": "https://plot.ly"
       },
       "data": [
        {
         "alignmentgroup": "True",
         "hovertemplate": "工作满意程度=%{x}<br>年龄=%{y}<extra></extra>",
         "legendgroup": "",
         "marker": {
          "color": "#636efa"
         },
         "name": "",
         "notched": false,
         "offsetgroup": "",
         "orientation": "v",
         "showlegend": false,
         "type": "box",
         "x": [
          13,
          15,
          13,
          10,
          14,
          16,
          7,
          10,
          10,
          14,
          19,
          16,
          20,
          10,
          15,
          10,
          10,
          10,
          18,
          17,
          10,
          10,
          10,
          12,
          17,
          13,
          13,
          16,
          10,
          15,
          20,
          10,
          10,
          15,
          13,
          8,
          12,
          16,
          17,
          15,
          17,
          21,
          18,
          17,
          15,
          16,
          16,
          18,
          10,
          5,
          12,
          13,
          8,
          16,
          13,
          8,
          10,
          16,
          15,
          11,
          12,
          12,
          11,
          16,
          12,
          16,
          12,
          10,
          13,
          11,
          10,
          12,
          11,
          11,
          16,
          16,
          21,
          10,
          13,
          12,
          12,
          16,
          14,
          17,
          19,
          17,
          18,
          16,
          11,
          16,
          18,
          12,
          20,
          21
         ],
         "x0": " ",
         "xaxis": "x",
         "y": [
          58,
          45,
          48,
          74,
          31,
          17,
          70,
          12,
          12,
          18,
          19,
          19,
          16,
          77,
          80,
          54,
          80,
          43,
          73,
          54,
          59,
          48,
          53,
          31,
          54,
          36,
          29,
          39,
          49,
          50,
          26,
          47,
          50,
          33,
          37,
          67,
          50,
          22,
          21,
          32,
          21,
          43,
          26,
          48,
          49,
          36,
          19,
          33,
          40,
          75,
          74,
          43,
          25,
          37,
          39,
          58,
          56,
          40,
          48,
          38,
          45,
          54,
          69,
          48,
          42,
          43,
          56,
          51,
          51,
          47,
          50,
          27,
          27,
          40,
          33,
          57,
          31,
          42,
          58,
          43,
          37,
          46,
          50,
          53,
          53,
          27,
          43,
          36,
          52,
          36,
          59,
          49,
          19,
          50
         ],
         "y0": " ",
         "yaxis": "y"
        }
       ],
       "layout": {
        "boxmode": "group",
        "legend": {
         "tracegroupgap": 0
        },
        "margin": {
         "t": 60
        },
        "template": {
         "data": {
          "bar": [
           {
            "error_x": {
             "color": "#2a3f5f"
            },
            "error_y": {
             "color": "#2a3f5f"
            },
            "marker": {
             "line": {
              "color": "#E5ECF6",
              "width": 0.5
             },
             "pattern": {
              "fillmode": "overlay",
              "size": 10,
              "solidity": 0.2
             }
            },
            "type": "bar"
           }
          ],
          "barpolar": [
           {
            "marker": {
             "line": {
              "color": "#E5ECF6",
              "width": 0.5
             },
             "pattern": {
              "fillmode": "overlay",
              "size": 10,
              "solidity": 0.2
             }
            },
            "type": "barpolar"
           }
          ],
          "carpet": [
           {
            "aaxis": {
             "endlinecolor": "#2a3f5f",
             "gridcolor": "white",
             "linecolor": "white",
             "minorgridcolor": "white",
             "startlinecolor": "#2a3f5f"
            },
            "baxis": {
             "endlinecolor": "#2a3f5f",
             "gridcolor": "white",
             "linecolor": "white",
             "minorgridcolor": "white",
             "startlinecolor": "#2a3f5f"
            },
            "type": "carpet"
           }
          ],
          "choropleth": [
           {
            "colorbar": {
             "outlinewidth": 0,
             "ticks": ""
            },
            "type": "choropleth"
           }
          ],
          "contour": [
           {
            "colorbar": {
             "outlinewidth": 0,
             "ticks": ""
            },
            "colorscale": [
             [
              0,
              "#0d0887"
             ],
             [
              0.1111111111111111,
              "#46039f"
             ],
             [
              0.2222222222222222,
              "#7201a8"
             ],
             [
              0.3333333333333333,
              "#9c179e"
             ],
             [
              0.4444444444444444,
              "#bd3786"
             ],
             [
              0.5555555555555556,
              "#d8576b"
             ],
             [
              0.6666666666666666,
              "#ed7953"
             ],
             [
              0.7777777777777778,
              "#fb9f3a"
             ],
             [
              0.8888888888888888,
              "#fdca26"
             ],
             [
              1,
              "#f0f921"
             ]
            ],
            "type": "contour"
           }
          ],
          "contourcarpet": [
           {
            "colorbar": {
             "outlinewidth": 0,
             "ticks": ""
            },
            "type": "contourcarpet"
           }
          ],
          "heatmap": [
           {
            "colorbar": {
             "outlinewidth": 0,
             "ticks": ""
            },
            "colorscale": [
             [
              0,
              "#0d0887"
             ],
             [
              0.1111111111111111,
              "#46039f"
             ],
             [
              0.2222222222222222,
              "#7201a8"
             ],
             [
              0.3333333333333333,
              "#9c179e"
             ],
             [
              0.4444444444444444,
              "#bd3786"
             ],
             [
              0.5555555555555556,
              "#d8576b"
             ],
             [
              0.6666666666666666,
              "#ed7953"
             ],
             [
              0.7777777777777778,
              "#fb9f3a"
             ],
             [
              0.8888888888888888,
              "#fdca26"
             ],
             [
              1,
              "#f0f921"
             ]
            ],
            "type": "heatmap"
           }
          ],
          "heatmapgl": [
           {
            "colorbar": {
             "outlinewidth": 0,
             "ticks": ""
            },
            "colorscale": [
             [
              0,
              "#0d0887"
             ],
             [
              0.1111111111111111,
              "#46039f"
             ],
             [
              0.2222222222222222,
              "#7201a8"
             ],
             [
              0.3333333333333333,
              "#9c179e"
             ],
             [
              0.4444444444444444,
              "#bd3786"
             ],
             [
              0.5555555555555556,
              "#d8576b"
             ],
             [
              0.6666666666666666,
              "#ed7953"
             ],
             [
              0.7777777777777778,
              "#fb9f3a"
             ],
             [
              0.8888888888888888,
              "#fdca26"
             ],
             [
              1,
              "#f0f921"
             ]
            ],
            "type": "heatmapgl"
           }
          ],
          "histogram": [
           {
            "marker": {
             "pattern": {
              "fillmode": "overlay",
              "size": 10,
              "solidity": 0.2
             }
            },
            "type": "histogram"
           }
          ],
          "histogram2d": [
           {
            "colorbar": {
             "outlinewidth": 0,
             "ticks": ""
            },
            "colorscale": [
             [
              0,
              "#0d0887"
             ],
             [
              0.1111111111111111,
              "#46039f"
             ],
             [
              0.2222222222222222,
              "#7201a8"
             ],
             [
              0.3333333333333333,
              "#9c179e"
             ],
             [
              0.4444444444444444,
              "#bd3786"
             ],
             [
              0.5555555555555556,
              "#d8576b"
             ],
             [
              0.6666666666666666,
              "#ed7953"
             ],
             [
              0.7777777777777778,
              "#fb9f3a"
             ],
             [
              0.8888888888888888,
              "#fdca26"
             ],
             [
              1,
              "#f0f921"
             ]
            ],
            "type": "histogram2d"
           }
          ],
          "histogram2dcontour": [
           {
            "colorbar": {
             "outlinewidth": 0,
             "ticks": ""
            },
            "colorscale": [
             [
              0,
              "#0d0887"
             ],
             [
              0.1111111111111111,
              "#46039f"
             ],
             [
              0.2222222222222222,
              "#7201a8"
             ],
             [
              0.3333333333333333,
              "#9c179e"
             ],
             [
              0.4444444444444444,
              "#bd3786"
             ],
             [
              0.5555555555555556,
              "#d8576b"
             ],
             [
              0.6666666666666666,
              "#ed7953"
             ],
             [
              0.7777777777777778,
              "#fb9f3a"
             ],
             [
              0.8888888888888888,
              "#fdca26"
             ],
             [
              1,
              "#f0f921"
             ]
            ],
            "type": "histogram2dcontour"
           }
          ],
          "mesh3d": [
           {
            "colorbar": {
             "outlinewidth": 0,
             "ticks": ""
            },
            "type": "mesh3d"
           }
          ],
          "parcoords": [
           {
            "line": {
             "colorbar": {
              "outlinewidth": 0,
              "ticks": ""
             }
            },
            "type": "parcoords"
           }
          ],
          "pie": [
           {
            "automargin": true,
            "type": "pie"
           }
          ],
          "scatter": [
           {
            "fillpattern": {
             "fillmode": "overlay",
             "size": 10,
             "solidity": 0.2
            },
            "type": "scatter"
           }
          ],
          "scatter3d": [
           {
            "line": {
             "colorbar": {
              "outlinewidth": 0,
              "ticks": ""
             }
            },
            "marker": {
             "colorbar": {
              "outlinewidth": 0,
              "ticks": ""
             }
            },
            "type": "scatter3d"
           }
          ],
          "scattercarpet": [
           {
            "marker": {
             "colorbar": {
              "outlinewidth": 0,
              "ticks": ""
             }
            },
            "type": "scattercarpet"
           }
          ],
          "scattergeo": [
           {
            "marker": {
             "colorbar": {
              "outlinewidth": 0,
              "ticks": ""
             }
            },
            "type": "scattergeo"
           }
          ],
          "scattergl": [
           {
            "marker": {
             "colorbar": {
              "outlinewidth": 0,
              "ticks": ""
             }
            },
            "type": "scattergl"
           }
          ],
          "scattermapbox": [
           {
            "marker": {
             "colorbar": {
              "outlinewidth": 0,
              "ticks": ""
             }
            },
            "type": "scattermapbox"
           }
          ],
          "scatterpolar": [
           {
            "marker": {
             "colorbar": {
              "outlinewidth": 0,
              "ticks": ""
             }
            },
            "type": "scatterpolar"
           }
          ],
          "scatterpolargl": [
           {
            "marker": {
             "colorbar": {
              "outlinewidth": 0,
              "ticks": ""
             }
            },
            "type": "scatterpolargl"
           }
          ],
          "scatterternary": [
           {
            "marker": {
             "colorbar": {
              "outlinewidth": 0,
              "ticks": ""
             }
            },
            "type": "scatterternary"
           }
          ],
          "surface": [
           {
            "colorbar": {
             "outlinewidth": 0,
             "ticks": ""
            },
            "colorscale": [
             [
              0,
              "#0d0887"
             ],
             [
              0.1111111111111111,
              "#46039f"
             ],
             [
              0.2222222222222222,
              "#7201a8"
             ],
             [
              0.3333333333333333,
              "#9c179e"
             ],
             [
              0.4444444444444444,
              "#bd3786"
             ],
             [
              0.5555555555555556,
              "#d8576b"
             ],
             [
              0.6666666666666666,
              "#ed7953"
             ],
             [
              0.7777777777777778,
              "#fb9f3a"
             ],
             [
              0.8888888888888888,
              "#fdca26"
             ],
             [
              1,
              "#f0f921"
             ]
            ],
            "type": "surface"
           }
          ],
          "table": [
           {
            "cells": {
             "fill": {
              "color": "#EBF0F8"
             },
             "line": {
              "color": "white"
             }
            },
            "header": {
             "fill": {
              "color": "#C8D4E3"
             },
             "line": {
              "color": "white"
             }
            },
            "type": "table"
           }
          ]
         },
         "layout": {
          "annotationdefaults": {
           "arrowcolor": "#2a3f5f",
           "arrowhead": 0,
           "arrowwidth": 1
          },
          "autotypenumbers": "strict",
          "coloraxis": {
           "colorbar": {
            "outlinewidth": 0,
            "ticks": ""
           }
          },
          "colorscale": {
           "diverging": [
            [
             0,
             "#8e0152"
            ],
            [
             0.1,
             "#c51b7d"
            ],
            [
             0.2,
             "#de77ae"
            ],
            [
             0.3,
             "#f1b6da"
            ],
            [
             0.4,
             "#fde0ef"
            ],
            [
             0.5,
             "#f7f7f7"
            ],
            [
             0.6,
             "#e6f5d0"
            ],
            [
             0.7,
             "#b8e186"
            ],
            [
             0.8,
             "#7fbc41"
            ],
            [
             0.9,
             "#4d9221"
            ],
            [
             1,
             "#276419"
            ]
           ],
           "sequential": [
            [
             0,
             "#0d0887"
            ],
            [
             0.1111111111111111,
             "#46039f"
            ],
            [
             0.2222222222222222,
             "#7201a8"
            ],
            [
             0.3333333333333333,
             "#9c179e"
            ],
            [
             0.4444444444444444,
             "#bd3786"
            ],
            [
             0.5555555555555556,
             "#d8576b"
            ],
            [
             0.6666666666666666,
             "#ed7953"
            ],
            [
             0.7777777777777778,
             "#fb9f3a"
            ],
            [
             0.8888888888888888,
             "#fdca26"
            ],
            [
             1,
             "#f0f921"
            ]
           ],
           "sequentialminus": [
            [
             0,
             "#0d0887"
            ],
            [
             0.1111111111111111,
             "#46039f"
            ],
            [
             0.2222222222222222,
             "#7201a8"
            ],
            [
             0.3333333333333333,
             "#9c179e"
            ],
            [
             0.4444444444444444,
             "#bd3786"
            ],
            [
             0.5555555555555556,
             "#d8576b"
            ],
            [
             0.6666666666666666,
             "#ed7953"
            ],
            [
             0.7777777777777778,
             "#fb9f3a"
            ],
            [
             0.8888888888888888,
             "#fdca26"
            ],
            [
             1,
             "#f0f921"
            ]
           ]
          },
          "colorway": [
           "#636efa",
           "#EF553B",
           "#00cc96",
           "#ab63fa",
           "#FFA15A",
           "#19d3f3",
           "#FF6692",
           "#B6E880",
           "#FF97FF",
           "#FECB52"
          ],
          "font": {
           "color": "#2a3f5f"
          },
          "geo": {
           "bgcolor": "white",
           "lakecolor": "white",
           "landcolor": "#E5ECF6",
           "showlakes": true,
           "showland": true,
           "subunitcolor": "white"
          },
          "hoverlabel": {
           "align": "left"
          },
          "hovermode": "closest",
          "mapbox": {
           "style": "light"
          },
          "paper_bgcolor": "white",
          "plot_bgcolor": "#E5ECF6",
          "polar": {
           "angularaxis": {
            "gridcolor": "white",
            "linecolor": "white",
            "ticks": ""
           },
           "bgcolor": "#E5ECF6",
           "radialaxis": {
            "gridcolor": "white",
            "linecolor": "white",
            "ticks": ""
           }
          },
          "scene": {
           "xaxis": {
            "backgroundcolor": "#E5ECF6",
            "gridcolor": "white",
            "gridwidth": 2,
            "linecolor": "white",
            "showbackground": true,
            "ticks": "",
            "zerolinecolor": "white"
           },
           "yaxis": {
            "backgroundcolor": "#E5ECF6",
            "gridcolor": "white",
            "gridwidth": 2,
            "linecolor": "white",
            "showbackground": true,
            "ticks": "",
            "zerolinecolor": "white"
           },
           "zaxis": {
            "backgroundcolor": "#E5ECF6",
            "gridcolor": "white",
            "gridwidth": 2,
            "linecolor": "white",
            "showbackground": true,
            "ticks": "",
            "zerolinecolor": "white"
           }
          },
          "shapedefaults": {
           "line": {
            "color": "#2a3f5f"
           }
          },
          "ternary": {
           "aaxis": {
            "gridcolor": "white",
            "linecolor": "white",
            "ticks": ""
           },
           "baxis": {
            "gridcolor": "white",
            "linecolor": "white",
            "ticks": ""
           },
           "bgcolor": "#E5ECF6",
           "caxis": {
            "gridcolor": "white",
            "linecolor": "white",
            "ticks": ""
           }
          },
          "title": {
           "x": 0.05
          },
          "xaxis": {
           "automargin": true,
           "gridcolor": "white",
           "linecolor": "white",
           "ticks": "",
           "title": {
            "standoff": 15
           },
           "zerolinecolor": "white",
           "zerolinewidth": 2
          },
          "yaxis": {
           "automargin": true,
           "gridcolor": "white",
           "linecolor": "white",
           "ticks": "",
           "title": {
            "standoff": 15
           },
           "zerolinecolor": "white",
           "zerolinewidth": 2
          }
         }
        },
        "xaxis": {
         "anchor": "y",
         "domain": [
          0,
          1
         ],
         "title": {
          "text": "工作满意程度"
         }
        },
        "yaxis": {
         "anchor": "x",
         "domain": [
          0,
          1
         ],
         "title": {
          "text": "年龄"
         }
        }
       }
      }
     },
     "metadata": {},
     "output_type": "display_data"
    },
    {
     "name": "stdout",
     "output_type": "stream",
     "text": [
      "各个类别的平均值：\n",
      "工作满意程度\n",
      "5.0     75.000000\n",
      "7.0     70.000000\n",
      "8.0     50.000000\n",
      "10.0    49.833333\n",
      "11.0    45.500000\n",
      "12.0    46.181818\n",
      "13.0    44.333333\n",
      "14.0    33.000000\n",
      "15.0    48.142857\n",
      "16.0    35.200000\n",
      "17.0    39.714286\n",
      "18.0    46.800000\n",
      "19.0    36.000000\n",
      "20.0    20.333333\n",
      "21.0    41.333333\n",
      "Name: 年龄, dtype: float64\n",
      "相关比率：0.13443158845515946\n",
      "中度相关\n",
      "F检验的p值：0.0002783380900783461\n",
      "                            OLS Regression Results                            \n",
      "==============================================================================\n",
      "Dep. Variable:                     年龄   R-squared:                       0.134\n",
      "Model:                            OLS   Adj. R-squared:                  0.125\n",
      "Method:                 Least Squares   F-statistic:                     14.29\n",
      "Date:                Thu, 04 Jan 2024   Prob (F-statistic):           0.000278\n",
      "Time:                        16:45:14   Log-Likelihood:                -386.59\n",
      "No. Observations:                  94   AIC:                             777.2\n",
      "Df Residuals:                      92   BIC:                             782.3\n",
      "Df Model:                           1                                         \n",
      "Covariance Type:            nonrobust                                         \n",
      "==============================================================================\n",
      "                 coef    std err          t      P>|t|      [0.025      0.975]\n",
      "------------------------------------------------------------------------------\n",
      "Intercept     66.6009      6.259     10.641      0.000      54.170      79.032\n",
      "工作满意程度        -1.6735      0.443     -3.780      0.000      -2.553      -0.794\n",
      "==============================================================================\n",
      "Omnibus:                        0.568   Durbin-Watson:                   1.529\n",
      "Prob(Omnibus):                  0.753   Jarque-Bera (JB):                0.200\n",
      "Skew:                           0.062   Prob(JB):                        0.905\n",
      "Kurtosis:                       3.189   Cond. No.                         57.7\n",
      "==============================================================================\n",
      "\n",
      "Notes:\n",
      "[1] Standard Errors assume that the covariance matrix of the errors is correctly specified.\n"
     ]
    }
   ],
   "source": [
    "# 双变量相关性分析\n",
    "mytools.类别变量与数值变量统计分析(数据表, '工作满意程度','年龄')"
   ]
  },
  {
   "cell_type": "code",
   "execution_count": 57,
   "metadata": {},
   "outputs": [
    {
     "data": {
      "application/vnd.plotly.v1+json": {
       "config": {
        "plotlyServerURL": "https://plot.ly"
       },
       "data": [
        {
         "hovertemplate": "工作满意程度=%{x}<br>生活满意度=%{y}<extra></extra>",
         "legendgroup": "",
         "marker": {
          "color": "#636efa",
          "symbol": "circle"
         },
         "mode": "markers",
         "name": "",
         "orientation": "v",
         "showlegend": false,
         "type": "scatter",
         "x": [
          13,
          15,
          13,
          10,
          14,
          16,
          7,
          10,
          10,
          14,
          19,
          16,
          20,
          10,
          15,
          10,
          10,
          10,
          18,
          17,
          10,
          10,
          10,
          12,
          17,
          13,
          13,
          16,
          10,
          15,
          20,
          10,
          10,
          15,
          13,
          8,
          12,
          16,
          17,
          15,
          17,
          21,
          18,
          17,
          15,
          16,
          16,
          18,
          10,
          5,
          12,
          13,
          8,
          16,
          13,
          8,
          10,
          16,
          15,
          11,
          12,
          12,
          11,
          16,
          12,
          16,
          12,
          10,
          13,
          11,
          10,
          12,
          11,
          11,
          16,
          16,
          21,
          10,
          13,
          12,
          12,
          16,
          14,
          17,
          19,
          17,
          18,
          16,
          11,
          16,
          18,
          12,
          20,
          21
         ],
         "xaxis": "x",
         "y": [
          24,
          26,
          29,
          33,
          25,
          19,
          30,
          20,
          30,
          17,
          25,
          29,
          18,
          28,
          28,
          24,
          31,
          10,
          27,
          20,
          10,
          20,
          28,
          26,
          24,
          30,
          24,
          27,
          21,
          27,
          16,
          30,
          25,
          16,
          14,
          32,
          27,
          31,
          31,
          25,
          22,
          28,
          28,
          18,
          19,
          17,
          28,
          22,
          18,
          27,
          30,
          26,
          26,
          29,
          28,
          30,
          30,
          26,
          29,
          21,
          25,
          28,
          23,
          24,
          24,
          28,
          28,
          28,
          28,
          29,
          31,
          27,
          28,
          30,
          23,
          25,
          27,
          26,
          29,
          27,
          30,
          30,
          32,
          31,
          28,
          26,
          27,
          20,
          24,
          28,
          30,
          30,
          28,
          26
         ],
         "yaxis": "y"
        },
        {
         "hovertemplate": "<b>OLS trendline</b><br>生活满意度 = -0.125495 * 工作满意程度 + 27.3259<br>R<sup>2</sup>=0.008401<br><br>工作满意程度=%{x}<br>生活满意度=%{y} <b>(trend)</b><extra></extra>",
         "legendgroup": "",
         "marker": {
          "color": "#636efa",
          "symbol": "circle"
         },
         "mode": "lines",
         "name": "",
         "showlegend": false,
         "type": "scatter",
         "x": [
          5,
          7,
          8,
          8,
          8,
          10,
          10,
          10,
          10,
          10,
          10,
          10,
          10,
          10,
          10,
          10,
          10,
          10,
          10,
          10,
          10,
          10,
          10,
          11,
          11,
          11,
          11,
          11,
          11,
          12,
          12,
          12,
          12,
          12,
          12,
          12,
          12,
          12,
          12,
          12,
          13,
          13,
          13,
          13,
          13,
          13,
          13,
          13,
          13,
          14,
          14,
          14,
          15,
          15,
          15,
          15,
          15,
          15,
          15,
          16,
          16,
          16,
          16,
          16,
          16,
          16,
          16,
          16,
          16,
          16,
          16,
          16,
          16,
          16,
          17,
          17,
          17,
          17,
          17,
          17,
          17,
          18,
          18,
          18,
          18,
          18,
          19,
          19,
          20,
          20,
          20,
          21,
          21,
          21
         ],
         "xaxis": "x",
         "y": [
          26.698454185647062,
          26.44746471510715,
          26.321969979837192,
          26.321969979837192,
          26.321969979837192,
          26.070980509297275,
          26.070980509297275,
          26.070980509297275,
          26.070980509297275,
          26.070980509297275,
          26.070980509297275,
          26.070980509297275,
          26.070980509297275,
          26.070980509297275,
          26.070980509297275,
          26.070980509297275,
          26.070980509297275,
          26.070980509297275,
          26.070980509297275,
          26.070980509297275,
          26.070980509297275,
          26.070980509297275,
          26.070980509297275,
          25.94548577402732,
          25.94548577402732,
          25.94548577402732,
          25.94548577402732,
          25.94548577402732,
          25.94548577402732,
          25.819991038757358,
          25.819991038757358,
          25.819991038757358,
          25.819991038757358,
          25.819991038757358,
          25.819991038757358,
          25.819991038757358,
          25.819991038757358,
          25.819991038757358,
          25.819991038757358,
          25.819991038757358,
          25.6944963034874,
          25.6944963034874,
          25.6944963034874,
          25.6944963034874,
          25.6944963034874,
          25.6944963034874,
          25.6944963034874,
          25.6944963034874,
          25.6944963034874,
          25.569001568217445,
          25.569001568217445,
          25.569001568217445,
          25.443506832947484,
          25.443506832947484,
          25.443506832947484,
          25.443506832947484,
          25.443506832947484,
          25.443506832947484,
          25.443506832947484,
          25.318012097677528,
          25.318012097677528,
          25.318012097677528,
          25.318012097677528,
          25.318012097677528,
          25.318012097677528,
          25.318012097677528,
          25.318012097677528,
          25.318012097677528,
          25.318012097677528,
          25.318012097677528,
          25.318012097677528,
          25.318012097677528,
          25.318012097677528,
          25.318012097677528,
          25.19251736240757,
          25.19251736240757,
          25.19251736240757,
          25.19251736240757,
          25.19251736240757,
          25.19251736240757,
          25.19251736240757,
          25.06702262713761,
          25.06702262713761,
          25.06702262713761,
          25.06702262713761,
          25.06702262713761,
          24.941527891867654,
          24.941527891867654,
          24.816033156597697,
          24.816033156597697,
          24.816033156597697,
          24.690538421327737,
          24.690538421327737,
          24.690538421327737
         ],
         "yaxis": "y"
        }
       ],
       "layout": {
        "legend": {
         "tracegroupgap": 0
        },
        "margin": {
         "t": 60
        },
        "template": {
         "data": {
          "bar": [
           {
            "error_x": {
             "color": "#2a3f5f"
            },
            "error_y": {
             "color": "#2a3f5f"
            },
            "marker": {
             "line": {
              "color": "#E5ECF6",
              "width": 0.5
             },
             "pattern": {
              "fillmode": "overlay",
              "size": 10,
              "solidity": 0.2
             }
            },
            "type": "bar"
           }
          ],
          "barpolar": [
           {
            "marker": {
             "line": {
              "color": "#E5ECF6",
              "width": 0.5
             },
             "pattern": {
              "fillmode": "overlay",
              "size": 10,
              "solidity": 0.2
             }
            },
            "type": "barpolar"
           }
          ],
          "carpet": [
           {
            "aaxis": {
             "endlinecolor": "#2a3f5f",
             "gridcolor": "white",
             "linecolor": "white",
             "minorgridcolor": "white",
             "startlinecolor": "#2a3f5f"
            },
            "baxis": {
             "endlinecolor": "#2a3f5f",
             "gridcolor": "white",
             "linecolor": "white",
             "minorgridcolor": "white",
             "startlinecolor": "#2a3f5f"
            },
            "type": "carpet"
           }
          ],
          "choropleth": [
           {
            "colorbar": {
             "outlinewidth": 0,
             "ticks": ""
            },
            "type": "choropleth"
           }
          ],
          "contour": [
           {
            "colorbar": {
             "outlinewidth": 0,
             "ticks": ""
            },
            "colorscale": [
             [
              0,
              "#0d0887"
             ],
             [
              0.1111111111111111,
              "#46039f"
             ],
             [
              0.2222222222222222,
              "#7201a8"
             ],
             [
              0.3333333333333333,
              "#9c179e"
             ],
             [
              0.4444444444444444,
              "#bd3786"
             ],
             [
              0.5555555555555556,
              "#d8576b"
             ],
             [
              0.6666666666666666,
              "#ed7953"
             ],
             [
              0.7777777777777778,
              "#fb9f3a"
             ],
             [
              0.8888888888888888,
              "#fdca26"
             ],
             [
              1,
              "#f0f921"
             ]
            ],
            "type": "contour"
           }
          ],
          "contourcarpet": [
           {
            "colorbar": {
             "outlinewidth": 0,
             "ticks": ""
            },
            "type": "contourcarpet"
           }
          ],
          "heatmap": [
           {
            "colorbar": {
             "outlinewidth": 0,
             "ticks": ""
            },
            "colorscale": [
             [
              0,
              "#0d0887"
             ],
             [
              0.1111111111111111,
              "#46039f"
             ],
             [
              0.2222222222222222,
              "#7201a8"
             ],
             [
              0.3333333333333333,
              "#9c179e"
             ],
             [
              0.4444444444444444,
              "#bd3786"
             ],
             [
              0.5555555555555556,
              "#d8576b"
             ],
             [
              0.6666666666666666,
              "#ed7953"
             ],
             [
              0.7777777777777778,
              "#fb9f3a"
             ],
             [
              0.8888888888888888,
              "#fdca26"
             ],
             [
              1,
              "#f0f921"
             ]
            ],
            "type": "heatmap"
           }
          ],
          "heatmapgl": [
           {
            "colorbar": {
             "outlinewidth": 0,
             "ticks": ""
            },
            "colorscale": [
             [
              0,
              "#0d0887"
             ],
             [
              0.1111111111111111,
              "#46039f"
             ],
             [
              0.2222222222222222,
              "#7201a8"
             ],
             [
              0.3333333333333333,
              "#9c179e"
             ],
             [
              0.4444444444444444,
              "#bd3786"
             ],
             [
              0.5555555555555556,
              "#d8576b"
             ],
             [
              0.6666666666666666,
              "#ed7953"
             ],
             [
              0.7777777777777778,
              "#fb9f3a"
             ],
             [
              0.8888888888888888,
              "#fdca26"
             ],
             [
              1,
              "#f0f921"
             ]
            ],
            "type": "heatmapgl"
           }
          ],
          "histogram": [
           {
            "marker": {
             "pattern": {
              "fillmode": "overlay",
              "size": 10,
              "solidity": 0.2
             }
            },
            "type": "histogram"
           }
          ],
          "histogram2d": [
           {
            "colorbar": {
             "outlinewidth": 0,
             "ticks": ""
            },
            "colorscale": [
             [
              0,
              "#0d0887"
             ],
             [
              0.1111111111111111,
              "#46039f"
             ],
             [
              0.2222222222222222,
              "#7201a8"
             ],
             [
              0.3333333333333333,
              "#9c179e"
             ],
             [
              0.4444444444444444,
              "#bd3786"
             ],
             [
              0.5555555555555556,
              "#d8576b"
             ],
             [
              0.6666666666666666,
              "#ed7953"
             ],
             [
              0.7777777777777778,
              "#fb9f3a"
             ],
             [
              0.8888888888888888,
              "#fdca26"
             ],
             [
              1,
              "#f0f921"
             ]
            ],
            "type": "histogram2d"
           }
          ],
          "histogram2dcontour": [
           {
            "colorbar": {
             "outlinewidth": 0,
             "ticks": ""
            },
            "colorscale": [
             [
              0,
              "#0d0887"
             ],
             [
              0.1111111111111111,
              "#46039f"
             ],
             [
              0.2222222222222222,
              "#7201a8"
             ],
             [
              0.3333333333333333,
              "#9c179e"
             ],
             [
              0.4444444444444444,
              "#bd3786"
             ],
             [
              0.5555555555555556,
              "#d8576b"
             ],
             [
              0.6666666666666666,
              "#ed7953"
             ],
             [
              0.7777777777777778,
              "#fb9f3a"
             ],
             [
              0.8888888888888888,
              "#fdca26"
             ],
             [
              1,
              "#f0f921"
             ]
            ],
            "type": "histogram2dcontour"
           }
          ],
          "mesh3d": [
           {
            "colorbar": {
             "outlinewidth": 0,
             "ticks": ""
            },
            "type": "mesh3d"
           }
          ],
          "parcoords": [
           {
            "line": {
             "colorbar": {
              "outlinewidth": 0,
              "ticks": ""
             }
            },
            "type": "parcoords"
           }
          ],
          "pie": [
           {
            "automargin": true,
            "type": "pie"
           }
          ],
          "scatter": [
           {
            "fillpattern": {
             "fillmode": "overlay",
             "size": 10,
             "solidity": 0.2
            },
            "type": "scatter"
           }
          ],
          "scatter3d": [
           {
            "line": {
             "colorbar": {
              "outlinewidth": 0,
              "ticks": ""
             }
            },
            "marker": {
             "colorbar": {
              "outlinewidth": 0,
              "ticks": ""
             }
            },
            "type": "scatter3d"
           }
          ],
          "scattercarpet": [
           {
            "marker": {
             "colorbar": {
              "outlinewidth": 0,
              "ticks": ""
             }
            },
            "type": "scattercarpet"
           }
          ],
          "scattergeo": [
           {
            "marker": {
             "colorbar": {
              "outlinewidth": 0,
              "ticks": ""
             }
            },
            "type": "scattergeo"
           }
          ],
          "scattergl": [
           {
            "marker": {
             "colorbar": {
              "outlinewidth": 0,
              "ticks": ""
             }
            },
            "type": "scattergl"
           }
          ],
          "scattermapbox": [
           {
            "marker": {
             "colorbar": {
              "outlinewidth": 0,
              "ticks": ""
             }
            },
            "type": "scattermapbox"
           }
          ],
          "scatterpolar": [
           {
            "marker": {
             "colorbar": {
              "outlinewidth": 0,
              "ticks": ""
             }
            },
            "type": "scatterpolar"
           }
          ],
          "scatterpolargl": [
           {
            "marker": {
             "colorbar": {
              "outlinewidth": 0,
              "ticks": ""
             }
            },
            "type": "scatterpolargl"
           }
          ],
          "scatterternary": [
           {
            "marker": {
             "colorbar": {
              "outlinewidth": 0,
              "ticks": ""
             }
            },
            "type": "scatterternary"
           }
          ],
          "surface": [
           {
            "colorbar": {
             "outlinewidth": 0,
             "ticks": ""
            },
            "colorscale": [
             [
              0,
              "#0d0887"
             ],
             [
              0.1111111111111111,
              "#46039f"
             ],
             [
              0.2222222222222222,
              "#7201a8"
             ],
             [
              0.3333333333333333,
              "#9c179e"
             ],
             [
              0.4444444444444444,
              "#bd3786"
             ],
             [
              0.5555555555555556,
              "#d8576b"
             ],
             [
              0.6666666666666666,
              "#ed7953"
             ],
             [
              0.7777777777777778,
              "#fb9f3a"
             ],
             [
              0.8888888888888888,
              "#fdca26"
             ],
             [
              1,
              "#f0f921"
             ]
            ],
            "type": "surface"
           }
          ],
          "table": [
           {
            "cells": {
             "fill": {
              "color": "#EBF0F8"
             },
             "line": {
              "color": "white"
             }
            },
            "header": {
             "fill": {
              "color": "#C8D4E3"
             },
             "line": {
              "color": "white"
             }
            },
            "type": "table"
           }
          ]
         },
         "layout": {
          "annotationdefaults": {
           "arrowcolor": "#2a3f5f",
           "arrowhead": 0,
           "arrowwidth": 1
          },
          "autotypenumbers": "strict",
          "coloraxis": {
           "colorbar": {
            "outlinewidth": 0,
            "ticks": ""
           }
          },
          "colorscale": {
           "diverging": [
            [
             0,
             "#8e0152"
            ],
            [
             0.1,
             "#c51b7d"
            ],
            [
             0.2,
             "#de77ae"
            ],
            [
             0.3,
             "#f1b6da"
            ],
            [
             0.4,
             "#fde0ef"
            ],
            [
             0.5,
             "#f7f7f7"
            ],
            [
             0.6,
             "#e6f5d0"
            ],
            [
             0.7,
             "#b8e186"
            ],
            [
             0.8,
             "#7fbc41"
            ],
            [
             0.9,
             "#4d9221"
            ],
            [
             1,
             "#276419"
            ]
           ],
           "sequential": [
            [
             0,
             "#0d0887"
            ],
            [
             0.1111111111111111,
             "#46039f"
            ],
            [
             0.2222222222222222,
             "#7201a8"
            ],
            [
             0.3333333333333333,
             "#9c179e"
            ],
            [
             0.4444444444444444,
             "#bd3786"
            ],
            [
             0.5555555555555556,
             "#d8576b"
            ],
            [
             0.6666666666666666,
             "#ed7953"
            ],
            [
             0.7777777777777778,
             "#fb9f3a"
            ],
            [
             0.8888888888888888,
             "#fdca26"
            ],
            [
             1,
             "#f0f921"
            ]
           ],
           "sequentialminus": [
            [
             0,
             "#0d0887"
            ],
            [
             0.1111111111111111,
             "#46039f"
            ],
            [
             0.2222222222222222,
             "#7201a8"
            ],
            [
             0.3333333333333333,
             "#9c179e"
            ],
            [
             0.4444444444444444,
             "#bd3786"
            ],
            [
             0.5555555555555556,
             "#d8576b"
            ],
            [
             0.6666666666666666,
             "#ed7953"
            ],
            [
             0.7777777777777778,
             "#fb9f3a"
            ],
            [
             0.8888888888888888,
             "#fdca26"
            ],
            [
             1,
             "#f0f921"
            ]
           ]
          },
          "colorway": [
           "#636efa",
           "#EF553B",
           "#00cc96",
           "#ab63fa",
           "#FFA15A",
           "#19d3f3",
           "#FF6692",
           "#B6E880",
           "#FF97FF",
           "#FECB52"
          ],
          "font": {
           "color": "#2a3f5f"
          },
          "geo": {
           "bgcolor": "white",
           "lakecolor": "white",
           "landcolor": "#E5ECF6",
           "showlakes": true,
           "showland": true,
           "subunitcolor": "white"
          },
          "hoverlabel": {
           "align": "left"
          },
          "hovermode": "closest",
          "mapbox": {
           "style": "light"
          },
          "paper_bgcolor": "white",
          "plot_bgcolor": "#E5ECF6",
          "polar": {
           "angularaxis": {
            "gridcolor": "white",
            "linecolor": "white",
            "ticks": ""
           },
           "bgcolor": "#E5ECF6",
           "radialaxis": {
            "gridcolor": "white",
            "linecolor": "white",
            "ticks": ""
           }
          },
          "scene": {
           "xaxis": {
            "backgroundcolor": "#E5ECF6",
            "gridcolor": "white",
            "gridwidth": 2,
            "linecolor": "white",
            "showbackground": true,
            "ticks": "",
            "zerolinecolor": "white"
           },
           "yaxis": {
            "backgroundcolor": "#E5ECF6",
            "gridcolor": "white",
            "gridwidth": 2,
            "linecolor": "white",
            "showbackground": true,
            "ticks": "",
            "zerolinecolor": "white"
           },
           "zaxis": {
            "backgroundcolor": "#E5ECF6",
            "gridcolor": "white",
            "gridwidth": 2,
            "linecolor": "white",
            "showbackground": true,
            "ticks": "",
            "zerolinecolor": "white"
           }
          },
          "shapedefaults": {
           "line": {
            "color": "#2a3f5f"
           }
          },
          "ternary": {
           "aaxis": {
            "gridcolor": "white",
            "linecolor": "white",
            "ticks": ""
           },
           "baxis": {
            "gridcolor": "white",
            "linecolor": "white",
            "ticks": ""
           },
           "bgcolor": "#E5ECF6",
           "caxis": {
            "gridcolor": "white",
            "linecolor": "white",
            "ticks": ""
           }
          },
          "title": {
           "x": 0.05
          },
          "xaxis": {
           "automargin": true,
           "gridcolor": "white",
           "linecolor": "white",
           "ticks": "",
           "title": {
            "standoff": 15
           },
           "zerolinecolor": "white",
           "zerolinewidth": 2
          },
          "yaxis": {
           "automargin": true,
           "gridcolor": "white",
           "linecolor": "white",
           "ticks": "",
           "title": {
            "standoff": 15
           },
           "zerolinecolor": "white",
           "zerolinewidth": 2
          }
         }
        },
        "xaxis": {
         "anchor": "y",
         "domain": [
          0,
          1
         ],
         "title": {
          "text": "工作满意程度"
         }
        },
        "yaxis": {
         "anchor": "x",
         "domain": [
          0,
          1
         ],
         "title": {
          "text": "生活满意度"
         }
        }
       }
      }
     },
     "metadata": {},
     "output_type": "display_data"
    },
    {
     "name": "stdout",
     "output_type": "stream",
     "text": [
      "决定系数r平方：0.0084\n",
      "微弱相关或不相关\n",
      "p值： 0.3796\n",
      "接受虚无假设\n"
     ]
    }
   ],
   "source": [
    "mytools.两个数值变量的统计分析(数据表,'工作满意程度','生活满意度')"
   ]
  },
  {
   "cell_type": "code",
   "execution_count": 58,
   "metadata": {},
   "outputs": [
    {
     "name": "stdout",
     "output_type": "stream",
     "text": [
      "+----+---------+-------+-------------+\n",
      "|    | Name    |   Age | City        |\n",
      "|----+---------+-------+-------------|\n",
      "|  0 | Alice   |    25 | New York    |\n",
      "|  1 | Bob     |    30 | Los Angeles |\n",
      "|  2 | Charlie |    35 | Chicago     |\n",
      "+----+---------+-------+-------------+\n"
     ]
    }
   ],
   "source": [
    "import pandas as pd\n",
    "from tabulate import tabulate\n",
    "\n",
    "# 创建一个示例 DataFrame\n",
    "data = {'Name': ['Alice', 'Bob', 'Charlie'],\n",
    "        'Age': [25, 30, 35],\n",
    "        'City': ['New York', 'Los Angeles', 'Chicago']}\n",
    "df = pd.DataFrame(data)\n",
    "\n",
    "# 使用 tabulate 打印 DataFrame\n",
    "print(tabulate(df, headers='keys', tablefmt='psql'))\n"
   ]
  }
 ],
 "metadata": {
  "kernelspec": {
   "display_name": "Python 3",
   "language": "python",
   "name": "python3"
  },
  "language_info": {
   "codemirror_mode": {
    "name": "ipython",
    "version": 3
   },
   "file_extension": ".py",
   "mimetype": "text/x-python",
   "name": "python",
   "nbconvert_exporter": "python",
   "pygments_lexer": "ipython3",
   "version": "3.11.5"
  }
 },
 "nbformat": 4,
 "nbformat_minor": 2
}
